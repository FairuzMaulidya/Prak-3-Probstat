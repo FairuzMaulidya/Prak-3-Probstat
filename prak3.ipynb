{
 "cells": [
  {
   "cell_type": "code",
   "execution_count": 1,
   "id": "99284ca7",
   "metadata": {},
   "outputs": [
    {
     "name": "stdout",
     "output_type": "stream",
     "text": [
      "Sampel hasil percobaan:\n",
      "[[0 5 5]]\n",
      "\n",
      "Probabilitas massa dari sampel yang dihasilkan: [0.01913625]\n"
     ]
    }
   ],
   "source": [
    "#Distribusi Multinomial\n",
    "import numpy as np\n",
    "from scipy.stats import multinomial\n",
    "# Definisikan parameter distribusi Multinomial\n",
    "n_trials_fairuz = 10 # Jumlah percobaan\n",
    "probabilities_fairuz = [0.2, 0.3, 0.5] # Probabilitas untuk masing-masing kategori\n",
    "# Buat objek distribusi Multinomial\n",
    "multinom_dist = multinomial (n_trials_fairuz, probabilities_fairuz)\n",
    "# Generate sampel dari distribusi Multinomial\n",
    "sample = multinom_dist.rvs()\n",
    "print(\"Sampel hasil percobaan:\")\n",
    "print(sample)\n",
    "# Hitung probabilitas massa dari sampel yang dihasilkan\n",
    "pmf_sample = multinom_dist.pmf(sample)\n",
    "print(\"\\nProbabilitas massa dari sampel yang dihasilkan:\", pmf_sample)"
   ]
  },
  {
   "cell_type": "code",
   "execution_count": 2,
   "id": "987be75e",
   "metadata": {},
   "outputs": [
    {
     "name": "stdout",
     "output_type": "stream",
     "text": [
      "Probabilitas massa: 0.04053909860481753\n"
     ]
    }
   ],
   "source": [
    "from scipy.stats import multinomial\n",
    "\n",
    "# Parameter\n",
    "n_trials = 20 \n",
    "probabilities = [8/20, 6/20, 6/20]  # Probabilitas nasi goreng, mie goreng, dan ayam goreng\n",
    "\n",
    "# Buat objek distribusi Multinomial\n",
    "multinom_dist = multinomial(n_trials, probabilities)\n",
    "\n",
    "# Hitung probabilitas massa untuk outcome [8, 6, 6] (Jumlah pelanggan yang memilih masing-masing makanan)\n",
    "outcome = [8, 6, 6]\n",
    "pmf_outcome = multinom_dist.pmf(outcome)\n",
    "\n",
    "print(\"Probabilitas massa:\", pmf_outcome)"
   ]
  },
  {
   "cell_type": "code",
   "execution_count": 9,
   "id": "178fc415",
   "metadata": {},
   "outputs": [
    {
     "name": "stdout",
     "output_type": "stream",
     "text": [
      "Probabilitas massa: 0.2150850071849252\n"
     ]
    }
   ],
   "source": [
    "import numpy as np\n",
    "from scipy.stats import hypergeom\n",
    "\n",
    "# Definisikan parameter distribusi Hipergeometrik\n",
    "N = 50  # Jumlah total elemen dalam populasi\n",
    "K = 20  # Jumlah elemen yang dianggap sukses dalam populasi\n",
    "n = 10  # Jumlah pengambilan sampel tanpa pengembalian\n",
    "k = 5   # Jumlah sukses yang ingin diperoleh dalam sampel\n",
    "\n",
    "# Buat objek distribusi Hipergeometrik\n",
    "hypergeom_dist = hypergeom(N, K, n)\n",
    "\n",
    "# Hitung probabilitas massa dari k sukses dalam n pengambilan sampel\n",
    "pmf_value = hypergeom_dist.pmf(k)\n",
    "print(\"Probabilitas massa:\", pmf_value)"
   ]
  },
  {
   "cell_type": "code",
   "execution_count": 12,
   "id": "df371f61",
   "metadata": {},
   "outputs": [
    {
     "name": "stdout",
     "output_type": "stream",
     "text": [
      "Probabilitas massa: [0.31787183 0.29800484 0.31787183]\n"
     ]
    }
   ],
   "source": [
    "from scipy.stats import hypergeom\n",
    "# Parameter\n",
    "N = 30 # Jumlah total bola dalam kotak\n",
    "K = 10 # Jumlah bola berwarna merah\n",
    "n = 8\n",
    "# Jumlah bola yang diambil secara acak tanpa pengembalian\n",
    "k1 = 3\n",
    "# Jumlah bola berwarna merah yang diinginkan\n",
    "k2 = 2\n",
    "# Jumlah bola berwarna biru yang diinginkan\n",
    "k3 = 3\n",
    "# Jumlah bola berwarna hijau yang diinginkan\n",
    "# Buat objek distribusi Hipergeometrik \n",
    "hypergeom_dist = hypergeom (N, K, n)\n",
    "# Hitung probabilitas massa\n",
    "pmf_value = hypergeom_dist.pmf([k1, k2, k3])\n",
    "print(\"Probabilitas massa:\", pmf_value)"
   ]
  },
  {
   "cell_type": "code",
   "execution_count": 15,
   "id": "ce4f5c86",
   "metadata": {},
   "outputs": [
    {
     "name": "stdout",
     "output_type": "stream",
     "text": [
      "Sampel hasil distribusi Poisson:\n",
      "[3 2 3 2 0 3 4 6 2 1]\n",
      "\n",
      "Probabilitas massa dari sampel yang dihasilkan: [0.18044704 0.27067057 0.18044704 0.27067057 0.13533528 0.18044704\n",
      " 0.09022352 0.0120298  0.27067057 0.27067057]\n"
     ]
    }
   ],
   "source": [
    "import numpy as np\n",
    "from scipy.stats import poisson\n",
    "\n",
    "# Definisikan parameter distribusi Poisson\n",
    "mu = 2  # Parameter lambda (tingkat kejadian)\n",
    "\n",
    "# Buat objek distribusi Poisson\n",
    "poisson_dist = poisson(mu)\n",
    "\n",
    "# Generate sampel dari distribusi Poisson\n",
    "sample = poisson_dist.rvs(size=10)  # Menghasilkan 10 sampel acak dari distribusi\n",
    "\n",
    "print(\"Sampel hasil distribusi Poisson:\")\n",
    "print(sample)\n",
    "\n",
    "# Hitung probabilitas massa dari sampel yang dihasilkan\n",
    "pmf_sample = poisson_dist.pmf(sample)\n",
    "print(\"\\nProbabilitas massa dari sampel yang dihasilkan:\", pmf_sample)"
   ]
  },
  {
   "cell_type": "code",
   "execution_count": 17,
   "id": "a029999b",
   "metadata": {},
   "outputs": [
    {
     "name": "stdout",
     "output_type": "stream",
     "text": [
      "Peluang bahwa akan tiba tepat 6 paket dalam jam berikutnya: 0.10419563456702102\n"
     ]
    }
   ],
   "source": [
    "from scipy.stats import poisson\n",
    "# Parameter distribusi Poisson \n",
    "mu = 4 # Tingkat kejadian (rata-rata paket per jam)\n",
    "# Mencari probabilitas massa untuk tepat 6 paket \n",
    "prob_tepat_6 = poisson.pmf(6, mu)\n",
    "print(\"Peluang bahwa akan tiba tepat 6 paket dalam jam berikutnya:\", prob_tepat_6)"
   ]
  },
  {
   "cell_type": "code",
   "execution_count": null,
   "id": "dfc37493",
   "metadata": {},
   "outputs": [],
   "source": []
  }
 ],
 "metadata": {
  "kernelspec": {
   "display_name": "Python 3 (ipykernel)",
   "language": "python",
   "name": "python3"
  },
  "language_info": {
   "codemirror_mode": {
    "name": "ipython",
    "version": 3
   },
   "file_extension": ".py",
   "mimetype": "text/x-python",
   "name": "python",
   "nbconvert_exporter": "python",
   "pygments_lexer": "ipython3",
   "version": "3.11.5"
  }
 },
 "nbformat": 4,
 "nbformat_minor": 5
}
